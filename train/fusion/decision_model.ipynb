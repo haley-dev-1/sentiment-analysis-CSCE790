{
 "cells": [
  {
   "cell_type": "markdown",
   "metadata": {},
   "source": [
    "## Decision-level Multimodal Data Fusion\n",
    "\n",
    "### Current Work (3/31/2025)\n",
    "- Capture outputs from models\n",
    "- Develop common representation space\n",
    "- Transform binary classifications, e.g. 'positive' 'negative'\n",
    "\n",
    "### Current Approach\n",
    "1. Binary classification from BERT transformer model\n",
    "2. Binary classification from PATTLite\n",
    "3. Common representation space (transformation of (1) and (2))\n",
    "4. Final category (positive, negative, conflicting)\n",
    "\n",
    "### Future work\n",
    "- attention for fusing, move from concatenation\n",
    "- Delve into other active research efforts that pertain to multi-modal fusion techniques \n",
    "- Explore mixed fusion techniques, e.g. Modality-Adaptive Fusion\n"
   ]
  },
  {
   "cell_type": "code",
   "execution_count": null,
   "metadata": {},
   "outputs": [
    {
     "ename": "ModuleNotFoundError",
     "evalue": "No module named 'torch'",
     "output_type": "error",
     "traceback": [
      "\u001b[1;31m---------------------------------------------------------------------------\u001b[0m",
      "\u001b[1;31mModuleNotFoundError\u001b[0m                       Traceback (most recent call last)",
      "Cell \u001b[1;32mIn[2], line 3\u001b[0m\n\u001b[0;32m      1\u001b[0m \u001b[38;5;66;03m# imports\u001b[39;00m\n\u001b[0;32m      2\u001b[0m \u001b[38;5;28;01mimport\u001b[39;00m \u001b[38;5;21;01mmath\u001b[39;00m\n\u001b[1;32m----> 3\u001b[0m \u001b[38;5;28;01mimport\u001b[39;00m \u001b[38;5;21;01mtorch\u001b[39;00m\n\u001b[0;32m      4\u001b[0m \u001b[38;5;28;01mimport\u001b[39;00m \u001b[38;5;21;01mtorch\u001b[39;00m\u001b[38;5;21;01m.\u001b[39;00m\u001b[38;5;21;01mnn\u001b[39;00m \u001b[38;5;28;01mas\u001b[39;00m \u001b[38;5;21;01mnn\u001b[39;00m\n\u001b[0;32m      5\u001b[0m \u001b[38;5;28;01mimport\u001b[39;00m \u001b[38;5;21;01msys\u001b[39;00m\n",
      "\u001b[1;31mModuleNotFoundError\u001b[0m: No module named 'torch'"
     ]
    }
   ],
   "source": [
    "# imports\n",
    "import math\n",
    "import numpy as np\n",
    "import torch\n",
    "import torch.nn as nn\n",
    "import sys\n",
    "\n",
    "import pandas as pd\n",
    "from transformers import BertTokenizer\n",
    "# from bertforsentimentanalysis"
   ]
  },
  {
   "cell_type": "markdown",
   "metadata": {},
   "source": []
  },
  {
   "cell_type": "code",
   "execution_count": null,
   "metadata": {},
   "outputs": [],
   "source": [
    "# globals"
   ]
  },
  {
   "cell_type": "code",
   "execution_count": null,
   "metadata": {},
   "outputs": [],
   "source": [
    "# get info from file\n",
    "pathToFER = '../'\n",
    "pathToBERT = '../bertforsentimentanalysis.ipynb'\n",
    "\n",
    "\n",
    "# load BERT (text sentiment analysis)\n",
    "    # TODO BERT Tokenizer\n",
    "    # returns categorization -- 'positive' (1), 'negative' (0)\n",
    "\n",
    "# load FER\n",
    "    # def load_fer_model(): return FERModel()\n",
    "    # returns probability, thresholded to 0 or 1\n",
    "\n",
    "# Late fusion model script\n",
    "class late_fusion_model(nn.Module):  # call base class from torch!\n",
    "    def __init__(self):  # for instantiation\n",
    "        super(late_fusion_model, self).__init__() # necessary call to parent class\n",
    "        \n",
    "        # \"\"Logits\" -- setting input/output relation (2 in, 3 out) from raw datas\n",
    "        self.fc = nn.Linear(2, 3) # combines, representes fused decision\n",
    "        self.softmax = nn.Softmax(dim=1) # probability distribution\n",
    "\n",
    "    def forward(self, bert_pred, fer_pred):\n",
    "        fusion_input = #TODO\n",
    "        \n",
    "\n",
    "\n",
    "        \n",
    "        return 1\n"
   ]
  },
  {
   "cell_type": "code",
   "execution_count": null,
   "metadata": {},
   "outputs": [],
   "source": []
  }
 ],
 "metadata": {
  "kernelspec": {
   "display_name": "base",
   "language": "python",
   "name": "python3"
  },
  "language_info": {
   "codemirror_mode": {
    "name": "ipython",
    "version": 3
   },
   "file_extension": ".py",
   "mimetype": "text/x-python",
   "name": "python",
   "nbconvert_exporter": "python",
   "pygments_lexer": "ipython3",
   "version": "3.11.5"
  }
 },
 "nbformat": 4,
 "nbformat_minor": 2
}
